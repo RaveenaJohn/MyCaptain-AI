{
 "cells": [
  {
   "cell_type": "code",
   "execution_count": 1,
   "metadata": {},
   "outputs": [],
   "source": [
    "# 1.Assigning elements to different lists"
   ]
  },
  {
   "cell_type": "code",
   "execution_count": 6,
   "metadata": {},
   "outputs": [
    {
     "name": "stdout",
     "output_type": "stream",
     "text": [
      "Enter number of elements in list2: 4\n",
      "Enter element of list2: 2\n",
      "Enter element of list2: hello\n",
      "Enter element of list2: 11.367\n",
      "Enter element of list2: My name is Rohan\n",
      "lis1 :  ['apple', 35, 'My name is Rohan']\n",
      "list2 :  ['2', 'hello', '11.367', 'My name is Rohan']\n"
     ]
    }
   ],
   "source": [
    "#Empty list\n",
    "list1=[]\n",
    "list2=[]\n",
    "\n",
    "#Appends values to list1\n",
    "list1.append(\"apple\")\n",
    "list1.append(35)\n",
    "list1.append(\"My name is Rohan\")\n",
    "\n",
    "#Enter number of elements in list2\n",
    "num=int(input(\"Enter number of elements in list2: \"))\n",
    "for i in range(1,num+1):\n",
    "    val=input(\"Enter element of list2: \")\n",
    "    #Appends values to list2\n",
    "    list2.append(val)\n",
    "#Prints list1\n",
    "print(\"lis1 : \",list1)\n",
    "#Prints list2\n",
    "print(\"list2 : \",list2)\n"
   ]
  },
  {
   "cell_type": "code",
   "execution_count": 7,
   "metadata": {},
   "outputs": [],
   "source": [
    "# 2.Accessing elements from a tuple"
   ]
  },
  {
   "cell_type": "code",
   "execution_count": 15,
   "metadata": {},
   "outputs": [
    {
     "name": "stdout",
     "output_type": "stream",
     "text": [
      "('Green', 3.56, 'See you soon', 685)\n"
     ]
    }
   ],
   "source": [
    "tup1=(\"Green\",3.56,\"See you soon\",685)\n",
    "#Prints tup1\n",
    "print(tup1)"
   ]
  },
  {
   "cell_type": "code",
   "execution_count": 14,
   "metadata": {},
   "outputs": [
    {
     "name": "stdout",
     "output_type": "stream",
     "text": [
      "('Green', 3.56, 'See you soon')\n"
     ]
    }
   ],
   "source": [
    "#Prints first three elements in tup1\n",
    "print(tup1[:3])"
   ]
  },
  {
   "cell_type": "code",
   "execution_count": 20,
   "metadata": {},
   "outputs": [
    {
     "name": "stdout",
     "output_type": "stream",
     "text": [
      "(74, 'grey', 'blue', 1.984)\n"
     ]
    }
   ],
   "source": [
    "#Prints tup2\n",
    "tup2=(74,'grey','blue',1.984)\n",
    "print(tup2)"
   ]
  },
  {
   "cell_type": "code",
   "execution_count": 21,
   "metadata": {},
   "outputs": [
    {
     "name": "stdout",
     "output_type": "stream",
     "text": [
      "('grey', 'blue')\n"
     ]
    }
   ],
   "source": [
    "#Prints elements at indices 1 and 2\n",
    "print(tup2[1:3])"
   ]
  },
  {
   "cell_type": "code",
   "execution_count": 22,
   "metadata": {},
   "outputs": [
    {
     "name": "stdout",
     "output_type": "stream",
     "text": [
      "('Green', 3.56, 'See you soon', 685, 74, 'grey', 'blue', 1.984)\n"
     ]
    }
   ],
   "source": [
    "#Concatenation of tup1 and tup2\n",
    "print(tup1+tup2)"
   ]
  },
  {
   "cell_type": "code",
   "execution_count": 23,
   "metadata": {},
   "outputs": [],
   "source": [
    "# 3. Deleting different dictionary elements"
   ]
  },
  {
   "cell_type": "code",
   "execution_count": 24,
   "metadata": {},
   "outputs": [
    {
     "name": "stdout",
     "output_type": "stream",
     "text": [
      "{'Anushka': 24, 'Rollno': 45, 'House': 'Red', 'DOB': '2/1/2000'}\n"
     ]
    }
   ],
   "source": [
    "dict1={\"Anushka\":24,\"Rollno\":45,\"House\":\"Red\",\"DOB\":\"2/1/2000\"}\n",
    "#Prints dict1\n",
    "print(dict1)"
   ]
  },
  {
   "cell_type": "code",
   "execution_count": 26,
   "metadata": {},
   "outputs": [
    {
     "name": "stdout",
     "output_type": "stream",
     "text": [
      "{'Anushka': 24, 'Rollno': 45, 'DOB': '2/1/2000'}\n"
     ]
    }
   ],
   "source": [
    "#del deletes item with specified key name \n",
    "del dict1[\"House\"]\n",
    "#Prints dictionary after deletion of key-value pair \"House\":Red\n",
    "print(dict1)"
   ]
  },
  {
   "cell_type": "code",
   "execution_count": 27,
   "metadata": {},
   "outputs": [
    {
     "data": {
      "text/plain": [
       "'2/1/2000'"
      ]
     },
     "execution_count": 27,
     "metadata": {},
     "output_type": "execute_result"
    }
   ],
   "source": [
    "#pop() method removes item with specified key name\n",
    "#Item with key name \"DOB\" is popped from dict1\n",
    "dict1.pop(\"DOB\")"
   ]
  },
  {
   "cell_type": "code",
   "execution_count": 28,
   "metadata": {},
   "outputs": [
    {
     "name": "stdout",
     "output_type": "stream",
     "text": [
      "{'Anushka': 24, 'Rollno': 45}\n"
     ]
    }
   ],
   "source": [
    "#Prints dict1 after removal of key:value pair \"DOB\":\"2/1/2000\"\n",
    "print(dict1)"
   ]
  }
 ],
 "metadata": {
  "kernelspec": {
   "display_name": "Python 3",
   "language": "python",
   "name": "python3"
  },
  "language_info": {
   "codemirror_mode": {
    "name": "ipython",
    "version": 3
   },
   "file_extension": ".py",
   "mimetype": "text/x-python",
   "name": "python",
   "nbconvert_exporter": "python",
   "pygments_lexer": "ipython3",
   "version": "3.7.1"
  }
 },
 "nbformat": 4,
 "nbformat_minor": 2
}
