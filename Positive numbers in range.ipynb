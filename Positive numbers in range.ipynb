{
 "cells": [
  {
   "cell_type": "code",
   "execution_count": 1,
   "metadata": {},
   "outputs": [],
   "source": [
    "#Python program to print all positive numbers in a range"
   ]
  },
  {
   "cell_type": "code",
   "execution_count": 10,
   "metadata": {},
   "outputs": [
    {
     "name": "stdout",
     "output_type": "stream",
     "text": [
      "Enter the total number of list lements 5\n",
      "Enter value of element in list 28\n",
      "Enter value of element in list -40\n",
      "Enter value of element in list 3\n",
      "Enter value of element in list 76\n",
      "Enter value of element in list -13\n",
      "The positive numbers in the list are :\n",
      "[28, 3, 76]\n"
     ]
    }
   ],
   "source": [
    "#list of numbers\n",
    "numlist=[]\n",
    "#list of positive numbers\n",
    "poslist=[]\n",
    "num=int(input(\"Enter the total number of list lements \"))\n",
    "for i in range(1,num+1):\n",
    "    val=int(input(\"Enter value of element in list \"))\n",
    "    #Appends values to numlist\n",
    "    numlist.append(val)\n",
    "#To display positive numbers in numlist\n",
    "print(\"The positive numbers in the list are :\")\n",
    "for j in range(num):\n",
    "    #Checks condition for positive number\n",
    "    if numlist[j]>0:\n",
    "        #Appends positive numbers to poslist\n",
    "        poslist.append(numlist[j])\n",
    "#Prints the list of positive numbers\n",
    "print(poslist)\n",
    "        \n"
   ]
  },
  {
   "cell_type": "code",
   "execution_count": null,
   "metadata": {},
   "outputs": [],
   "source": []
  }
 ],
 "metadata": {
  "kernelspec": {
   "display_name": "Python 3",
   "language": "python",
   "name": "python3"
  },
  "language_info": {
   "codemirror_mode": {
    "name": "ipython",
    "version": 3
   },
   "file_extension": ".py",
   "mimetype": "text/x-python",
   "name": "python",
   "nbconvert_exporter": "python",
   "pygments_lexer": "ipython3",
   "version": "3.7.1"
  }
 },
 "nbformat": 4,
 "nbformat_minor": 2
}
