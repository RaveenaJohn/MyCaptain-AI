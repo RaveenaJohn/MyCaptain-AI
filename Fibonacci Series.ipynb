{
 "cells": [
  {
   "cell_type": "code",
   "execution_count": 1,
   "metadata": {},
   "outputs": [],
   "source": [
    "#Python program to display Fibonacci series using loops"
   ]
  },
  {
   "cell_type": "code",
   "execution_count": 11,
   "metadata": {},
   "outputs": [
    {
     "name": "stdout",
     "output_type": "stream",
     "text": [
      "Enter the number of terms \n",
      "Enter a number 8\n",
      "Fibonacci series : \n",
      "0\n",
      "1\n",
      "1\n",
      "2\n",
      "3\n",
      "5\n",
      "8\n",
      "13\n"
     ]
    }
   ],
   "source": [
    "#Enter the number of terms\n",
    "print(\"Enter the number of terms \")\n",
    "terms=int(input(\"Enter a number \"))\n",
    "num = 0\n",
    "n1=0\n",
    "n2=1\n",
    "count=0\n",
    "print(\"Fibonacci series : \")\n",
    "while (count<terms):\n",
    "    print(n1)\n",
    "    num=n1+n2\n",
    "    n1=n2\n",
    "    n2=num\n",
    "    count+=1"
   ]
  },
  {
   "cell_type": "code",
   "execution_count": null,
   "metadata": {},
   "outputs": [],
   "source": []
  }
 ],
 "metadata": {
  "kernelspec": {
   "display_name": "Python 3",
   "language": "python",
   "name": "python3"
  },
  "language_info": {
   "codemirror_mode": {
    "name": "ipython",
    "version": 3
   },
   "file_extension": ".py",
   "mimetype": "text/x-python",
   "name": "python",
   "nbconvert_exporter": "python",
   "pygments_lexer": "ipython3",
   "version": "3.7.1"
  }
 },
 "nbformat": 4,
 "nbformat_minor": 2
}
